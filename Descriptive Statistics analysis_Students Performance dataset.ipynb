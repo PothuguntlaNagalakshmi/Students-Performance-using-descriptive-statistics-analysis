{
 "cells": [
  {
   "cell_type": "markdown",
   "id": "aa1a503c",
   "metadata": {},
   "source": [
    "Students Performance Dataset:\n",
    "\n",
    "This data approaches student achievement in secondary education of two Portuguese schools. The data attributes include student grades, demographic, social and school related features and it was collected by using school reports and questionnaires. Two datasets are provided regarding the performance in two distinct subjects: Mathematics (mat) and Portuguese language (por).\n",
    "\n",
    "\n",
    "Attributes for both student: mat.csv (Math course) and student: por.csv (Portuguese language course) datasets:\n",
    "\n",
    "1.\tschool :  student's school (binary: \"GP\" :  Gabriel Pereira or \"MS\" :  Mousinho da Silveira)\n",
    "2.\tsex :  student's sex (binary: \"F\" :  female or \"M\" :  male)\n",
    "3.\tage :  student's age (numeric: from 15 to 22)\n",
    "4.\taddress :  student's home address type (binary: \"U\" :  urban or \"R\" :  rural)\n",
    "5.\tfamsize :  family size (binary: \"LE3\" :  less or equal to 3 or \"GT3\" :  greater than 3)\n",
    "6.\tPstatus :  parent's cohabitation status (binary: \"T\" :  living together or \"A\" :  apart)\n",
    "7.\tMedu :  mother's education (numeric: 0 :  none,  1 :  primary education (4th grade), 2 : 5th to 9th grade, 3 : secondary       education or 4: higher education)\n",
    "8.\tFedu :  father's education (numeric: 0 :  none,  1 :  primary education (4th grade), 2 : 5th to 9th grade, 3 : secondary       education or 4 : higher education)\n",
    "9.\tMjob :  mother's job (nominal: \"teacher\", \"health\" care related, civil \"services\" (e.g. administrative or police),             \"at_home\" or \"other\")\n",
    "10.\tFjob :  father's job (nominal: \"teacher\", \"health\" care related, civil \"services\" (e.g. administrative or police),       \"at_home\" or \"other\")\n",
    "11.\treason :  reason to choose this school (nominal: close to \"home\", school \"reputation\", \"course\" preference or \"other\")\n",
    "12.\tguardian :  student's guardian (nominal: \"mother\", \"father\" or \"other\")\n",
    "13.\ttraveltime :  home to school travel time (numeric: 1 :  <15 min., 2 :  15 to 30 min., 3 :  30 min. to 1 hour, or 4 :  >1 hour)\n",
    "14.\tstudytime :  weekly study time (numeric: 1 :  <2 hours, 2 :  2 to 5 hours, 3 :  5 to 10 hours, or 4 :  >10 hours)\n",
    "15.\tfailures :  number of past class failures (numeric: n if 1<=n<3, else 4)\n",
    "16.\tschoolsup :  extra educational support (binary: yes or no)\n",
    "17.\tfamsup :  family educational support (binary: yes or no)\n",
    "18.\tpaid :  extra paid classes within the course subject (Math or Portuguese) (binary: yes or no)\n",
    "19.\tactivities :  extra: curricular activities (binary: yes or no)\n",
    "20.\tnursery :  attended nursery school (binary: yes or no)\n",
    "21.\thigher :  wants to take higher education (binary: yes or no)\n",
    "22.\tinternet :  Internet access at home (binary: yes or no)\n",
    "23.\tromantic :  with a romantic relationship (binary: yes or no)\n",
    "24.\tfamrel :  quality of family relationships (numeric: from 1 :  very bad to 5 :  excellent)\n",
    "25.\tfreetime :  free time after school (numeric: from 1 :  very low to 5 :  very high)\n",
    "26.\tgoout :  going out with friends (numeric: from 1 :  very low to 5 :  very high)\n",
    "27.\tDalc :  workday alcohol consumption (numeric: from 1 :  very low to 5 :  very high)\n",
    "28.\tWalc :  weekend alcohol consumption (numeric: from 1 :  very low to 5 :  very high)\n",
    "29.\thealth :  current health status (numeric: from 1 :  very bad to 5 :  very good)\n",
    "30.\tabsences :  number of school absences (numeric: from 0 to 93)\n",
    "\n",
    "Grade attributes:\n",
    "31.\tG1 :  first period grade (numeric: from 0 to 20)\n",
    "32.\tG2 :  second period grade (numeric: from 0 to 20)\n",
    "33.\tG3 :  final grade (numeric: from 0 to 20, output target)\n",
    "\n",
    "Attribute Analysis:\n",
    "-\tMerging of both the portuguese and math csv’s can give us insights about how students performance in one subject might translate to another\n",
    "-\tSome clear attribute relations exist which are ready to be explored like, schoolsup, famsup, nursery,health etc with the grades of the subject\n",
    "-\tAny exploration into the family attributes should yield interesting insights about the effect of home environment on students performance\n",
    "-\tFinal grade attribute G3 will definitely be highly dependent on G1 and G2 grades, so a prediction without these attributes should be interesting t o try\n",
    "\n",
    "\n",
    "Table of Content:\n",
    "\n",
    "1.Import Packages\n",
    "2.Load Datasets\n",
    "3.Data Preparation\n",
    "4.Discriptive Statistics Analysis\n",
    "\n"
   ]
  },
  {
   "cell_type": "markdown",
   "id": "0a18d2ac",
   "metadata": {},
   "source": [
    "1.Import Packages"
   ]
  },
  {
   "cell_type": "code",
   "execution_count": 1,
   "id": "3fc28638",
   "metadata": {},
   "outputs": [],
   "source": [
    "import numpy as np\n",
    "import pandas as pd\n",
    "import matplotlib.pyplot as plt\n",
    "import seaborn as sns"
   ]
  },
  {
   "cell_type": "markdown",
   "id": "e8d9e3bc",
   "metadata": {},
   "source": [
    "2.Load Datasets"
   ]
  },
  {
   "cell_type": "code",
   "execution_count": 2,
   "id": "74e94b0c",
   "metadata": {},
   "outputs": [],
   "source": [
    "\n",
    "#reading student performance datasets in subjects Mathematics (mat) and Portuguese language (por)\n",
    "mat = pd.read_csv(\"student-mat (1).csv\",sep=\";\")\n",
    "por= pd.read_csv(\"student-por.csv\",sep =\";\")\n",
    "\n"
   ]
  },
  {
   "cell_type": "markdown",
   "id": "5dd5f2af",
   "metadata": {},
   "source": [
    "3.Data Preparation"
   ]
  },
  {
   "cell_type": "code",
   "execution_count": 3,
   "id": "0c8f0716",
   "metadata": {
    "scrolled": true
   },
   "outputs": [
    {
     "data": {
      "text/html": [
       "<div>\n",
       "<style scoped>\n",
       "    .dataframe tbody tr th:only-of-type {\n",
       "        vertical-align: middle;\n",
       "    }\n",
       "\n",
       "    .dataframe tbody tr th {\n",
       "        vertical-align: top;\n",
       "    }\n",
       "\n",
       "    .dataframe thead th {\n",
       "        text-align: right;\n",
       "    }\n",
       "</style>\n",
       "<table border=\"1\" class=\"dataframe\">\n",
       "  <thead>\n",
       "    <tr style=\"text-align: right;\">\n",
       "      <th></th>\n",
       "      <th>school</th>\n",
       "      <th>sex</th>\n",
       "      <th>age</th>\n",
       "      <th>address</th>\n",
       "      <th>famsize</th>\n",
       "      <th>Pstatus</th>\n",
       "      <th>Medu</th>\n",
       "      <th>Fedu</th>\n",
       "      <th>Mjob</th>\n",
       "      <th>Fjob</th>\n",
       "      <th>...</th>\n",
       "      <th>famrel</th>\n",
       "      <th>freetime</th>\n",
       "      <th>goout</th>\n",
       "      <th>Dalc</th>\n",
       "      <th>Walc</th>\n",
       "      <th>health</th>\n",
       "      <th>absences</th>\n",
       "      <th>G1</th>\n",
       "      <th>G2</th>\n",
       "      <th>G3</th>\n",
       "    </tr>\n",
       "  </thead>\n",
       "  <tbody>\n",
       "    <tr>\n",
       "      <th>0</th>\n",
       "      <td>GP</td>\n",
       "      <td>F</td>\n",
       "      <td>18</td>\n",
       "      <td>U</td>\n",
       "      <td>GT3</td>\n",
       "      <td>A</td>\n",
       "      <td>4</td>\n",
       "      <td>4</td>\n",
       "      <td>at_home</td>\n",
       "      <td>teacher</td>\n",
       "      <td>...</td>\n",
       "      <td>4</td>\n",
       "      <td>3</td>\n",
       "      <td>4</td>\n",
       "      <td>1</td>\n",
       "      <td>1</td>\n",
       "      <td>3</td>\n",
       "      <td>6</td>\n",
       "      <td>5</td>\n",
       "      <td>6</td>\n",
       "      <td>6</td>\n",
       "    </tr>\n",
       "    <tr>\n",
       "      <th>1</th>\n",
       "      <td>GP</td>\n",
       "      <td>F</td>\n",
       "      <td>17</td>\n",
       "      <td>U</td>\n",
       "      <td>GT3</td>\n",
       "      <td>T</td>\n",
       "      <td>1</td>\n",
       "      <td>1</td>\n",
       "      <td>at_home</td>\n",
       "      <td>other</td>\n",
       "      <td>...</td>\n",
       "      <td>5</td>\n",
       "      <td>3</td>\n",
       "      <td>3</td>\n",
       "      <td>1</td>\n",
       "      <td>1</td>\n",
       "      <td>3</td>\n",
       "      <td>4</td>\n",
       "      <td>5</td>\n",
       "      <td>5</td>\n",
       "      <td>6</td>\n",
       "    </tr>\n",
       "    <tr>\n",
       "      <th>2</th>\n",
       "      <td>GP</td>\n",
       "      <td>F</td>\n",
       "      <td>15</td>\n",
       "      <td>U</td>\n",
       "      <td>LE3</td>\n",
       "      <td>T</td>\n",
       "      <td>1</td>\n",
       "      <td>1</td>\n",
       "      <td>at_home</td>\n",
       "      <td>other</td>\n",
       "      <td>...</td>\n",
       "      <td>4</td>\n",
       "      <td>3</td>\n",
       "      <td>2</td>\n",
       "      <td>2</td>\n",
       "      <td>3</td>\n",
       "      <td>3</td>\n",
       "      <td>10</td>\n",
       "      <td>7</td>\n",
       "      <td>8</td>\n",
       "      <td>10</td>\n",
       "    </tr>\n",
       "    <tr>\n",
       "      <th>3</th>\n",
       "      <td>GP</td>\n",
       "      <td>F</td>\n",
       "      <td>15</td>\n",
       "      <td>U</td>\n",
       "      <td>GT3</td>\n",
       "      <td>T</td>\n",
       "      <td>4</td>\n",
       "      <td>2</td>\n",
       "      <td>health</td>\n",
       "      <td>services</td>\n",
       "      <td>...</td>\n",
       "      <td>3</td>\n",
       "      <td>2</td>\n",
       "      <td>2</td>\n",
       "      <td>1</td>\n",
       "      <td>1</td>\n",
       "      <td>5</td>\n",
       "      <td>2</td>\n",
       "      <td>15</td>\n",
       "      <td>14</td>\n",
       "      <td>15</td>\n",
       "    </tr>\n",
       "    <tr>\n",
       "      <th>4</th>\n",
       "      <td>GP</td>\n",
       "      <td>F</td>\n",
       "      <td>16</td>\n",
       "      <td>U</td>\n",
       "      <td>GT3</td>\n",
       "      <td>T</td>\n",
       "      <td>3</td>\n",
       "      <td>3</td>\n",
       "      <td>other</td>\n",
       "      <td>other</td>\n",
       "      <td>...</td>\n",
       "      <td>4</td>\n",
       "      <td>3</td>\n",
       "      <td>2</td>\n",
       "      <td>1</td>\n",
       "      <td>2</td>\n",
       "      <td>5</td>\n",
       "      <td>4</td>\n",
       "      <td>6</td>\n",
       "      <td>10</td>\n",
       "      <td>10</td>\n",
       "    </tr>\n",
       "    <tr>\n",
       "      <th>...</th>\n",
       "      <td>...</td>\n",
       "      <td>...</td>\n",
       "      <td>...</td>\n",
       "      <td>...</td>\n",
       "      <td>...</td>\n",
       "      <td>...</td>\n",
       "      <td>...</td>\n",
       "      <td>...</td>\n",
       "      <td>...</td>\n",
       "      <td>...</td>\n",
       "      <td>...</td>\n",
       "      <td>...</td>\n",
       "      <td>...</td>\n",
       "      <td>...</td>\n",
       "      <td>...</td>\n",
       "      <td>...</td>\n",
       "      <td>...</td>\n",
       "      <td>...</td>\n",
       "      <td>...</td>\n",
       "      <td>...</td>\n",
       "      <td>...</td>\n",
       "    </tr>\n",
       "    <tr>\n",
       "      <th>644</th>\n",
       "      <td>MS</td>\n",
       "      <td>F</td>\n",
       "      <td>19</td>\n",
       "      <td>R</td>\n",
       "      <td>GT3</td>\n",
       "      <td>T</td>\n",
       "      <td>2</td>\n",
       "      <td>3</td>\n",
       "      <td>services</td>\n",
       "      <td>other</td>\n",
       "      <td>...</td>\n",
       "      <td>5</td>\n",
       "      <td>4</td>\n",
       "      <td>2</td>\n",
       "      <td>1</td>\n",
       "      <td>2</td>\n",
       "      <td>5</td>\n",
       "      <td>4</td>\n",
       "      <td>10</td>\n",
       "      <td>11</td>\n",
       "      <td>10</td>\n",
       "    </tr>\n",
       "    <tr>\n",
       "      <th>645</th>\n",
       "      <td>MS</td>\n",
       "      <td>F</td>\n",
       "      <td>18</td>\n",
       "      <td>U</td>\n",
       "      <td>LE3</td>\n",
       "      <td>T</td>\n",
       "      <td>3</td>\n",
       "      <td>1</td>\n",
       "      <td>teacher</td>\n",
       "      <td>services</td>\n",
       "      <td>...</td>\n",
       "      <td>4</td>\n",
       "      <td>3</td>\n",
       "      <td>4</td>\n",
       "      <td>1</td>\n",
       "      <td>1</td>\n",
       "      <td>1</td>\n",
       "      <td>4</td>\n",
       "      <td>15</td>\n",
       "      <td>15</td>\n",
       "      <td>16</td>\n",
       "    </tr>\n",
       "    <tr>\n",
       "      <th>646</th>\n",
       "      <td>MS</td>\n",
       "      <td>F</td>\n",
       "      <td>18</td>\n",
       "      <td>U</td>\n",
       "      <td>GT3</td>\n",
       "      <td>T</td>\n",
       "      <td>1</td>\n",
       "      <td>1</td>\n",
       "      <td>other</td>\n",
       "      <td>other</td>\n",
       "      <td>...</td>\n",
       "      <td>1</td>\n",
       "      <td>1</td>\n",
       "      <td>1</td>\n",
       "      <td>1</td>\n",
       "      <td>1</td>\n",
       "      <td>5</td>\n",
       "      <td>6</td>\n",
       "      <td>11</td>\n",
       "      <td>12</td>\n",
       "      <td>9</td>\n",
       "    </tr>\n",
       "    <tr>\n",
       "      <th>647</th>\n",
       "      <td>MS</td>\n",
       "      <td>M</td>\n",
       "      <td>17</td>\n",
       "      <td>U</td>\n",
       "      <td>LE3</td>\n",
       "      <td>T</td>\n",
       "      <td>3</td>\n",
       "      <td>1</td>\n",
       "      <td>services</td>\n",
       "      <td>services</td>\n",
       "      <td>...</td>\n",
       "      <td>2</td>\n",
       "      <td>4</td>\n",
       "      <td>5</td>\n",
       "      <td>3</td>\n",
       "      <td>4</td>\n",
       "      <td>2</td>\n",
       "      <td>6</td>\n",
       "      <td>10</td>\n",
       "      <td>10</td>\n",
       "      <td>10</td>\n",
       "    </tr>\n",
       "    <tr>\n",
       "      <th>648</th>\n",
       "      <td>MS</td>\n",
       "      <td>M</td>\n",
       "      <td>18</td>\n",
       "      <td>R</td>\n",
       "      <td>LE3</td>\n",
       "      <td>T</td>\n",
       "      <td>3</td>\n",
       "      <td>2</td>\n",
       "      <td>services</td>\n",
       "      <td>other</td>\n",
       "      <td>...</td>\n",
       "      <td>4</td>\n",
       "      <td>4</td>\n",
       "      <td>1</td>\n",
       "      <td>3</td>\n",
       "      <td>4</td>\n",
       "      <td>5</td>\n",
       "      <td>4</td>\n",
       "      <td>10</td>\n",
       "      <td>11</td>\n",
       "      <td>11</td>\n",
       "    </tr>\n",
       "  </tbody>\n",
       "</table>\n",
       "<p>1044 rows × 33 columns</p>\n",
       "</div>"
      ],
      "text/plain": [
       "    school sex  age address famsize Pstatus  Medu  Fedu      Mjob      Fjob  \\\n",
       "0       GP   F   18       U     GT3       A     4     4   at_home   teacher   \n",
       "1       GP   F   17       U     GT3       T     1     1   at_home     other   \n",
       "2       GP   F   15       U     LE3       T     1     1   at_home     other   \n",
       "3       GP   F   15       U     GT3       T     4     2    health  services   \n",
       "4       GP   F   16       U     GT3       T     3     3     other     other   \n",
       "..     ...  ..  ...     ...     ...     ...   ...   ...       ...       ...   \n",
       "644     MS   F   19       R     GT3       T     2     3  services     other   \n",
       "645     MS   F   18       U     LE3       T     3     1   teacher  services   \n",
       "646     MS   F   18       U     GT3       T     1     1     other     other   \n",
       "647     MS   M   17       U     LE3       T     3     1  services  services   \n",
       "648     MS   M   18       R     LE3       T     3     2  services     other   \n",
       "\n",
       "     ... famrel freetime  goout  Dalc  Walc health absences  G1  G2  G3  \n",
       "0    ...      4        3      4     1     1      3        6   5   6   6  \n",
       "1    ...      5        3      3     1     1      3        4   5   5   6  \n",
       "2    ...      4        3      2     2     3      3       10   7   8  10  \n",
       "3    ...      3        2      2     1     1      5        2  15  14  15  \n",
       "4    ...      4        3      2     1     2      5        4   6  10  10  \n",
       "..   ...    ...      ...    ...   ...   ...    ...      ...  ..  ..  ..  \n",
       "644  ...      5        4      2     1     2      5        4  10  11  10  \n",
       "645  ...      4        3      4     1     1      1        4  15  15  16  \n",
       "646  ...      1        1      1     1     1      5        6  11  12   9  \n",
       "647  ...      2        4      5     3     4      2        6  10  10  10  \n",
       "648  ...      4        4      1     3     4      5        4  10  11  11  \n",
       "\n",
       "[1044 rows x 33 columns]"
      ]
     },
     "execution_count": 3,
     "metadata": {},
     "output_type": "execute_result"
    }
   ],
   "source": [
    "#merge datasets\n",
    "\n",
    "stuper= pd.concat([mat,por])\n",
    "stuper"
   ]
  },
  {
   "cell_type": "code",
   "execution_count": 4,
   "id": "965228fd",
   "metadata": {},
   "outputs": [
    {
     "data": {
      "text/plain": [
       "Index(['school', 'sex', 'age', 'address', 'famsize', 'Pstatus', 'Medu', 'Fedu',\n",
       "       'Mjob', 'Fjob', 'reason', 'guardian', 'traveltime', 'studytime',\n",
       "       'failures', 'schoolsup', 'famsup', 'paid', 'activities', 'nursery',\n",
       "       'higher', 'internet', 'romantic', 'famrel', 'freetime', 'goout', 'Dalc',\n",
       "       'Walc', 'health', 'absences', 'G1', 'G2', 'G3'],\n",
       "      dtype='object')"
      ]
     },
     "execution_count": 4,
     "metadata": {},
     "output_type": "execute_result"
    }
   ],
   "source": [
    "#checking the column names\n",
    "stuper.columns"
   ]
  },
  {
   "cell_type": "code",
   "execution_count": 5,
   "id": "2eadeeb3",
   "metadata": {},
   "outputs": [
    {
     "name": "stdout",
     "output_type": "stream",
     "text": [
      "<class 'pandas.core.frame.DataFrame'>\n",
      "Int64Index: 1044 entries, 0 to 648\n",
      "Data columns (total 33 columns):\n",
      " #   Column      Non-Null Count  Dtype \n",
      "---  ------      --------------  ----- \n",
      " 0   school      1044 non-null   object\n",
      " 1   sex         1044 non-null   object\n",
      " 2   age         1044 non-null   int64 \n",
      " 3   address     1044 non-null   object\n",
      " 4   famsize     1044 non-null   object\n",
      " 5   Pstatus     1044 non-null   object\n",
      " 6   Medu        1044 non-null   int64 \n",
      " 7   Fedu        1044 non-null   int64 \n",
      " 8   Mjob        1044 non-null   object\n",
      " 9   Fjob        1044 non-null   object\n",
      " 10  reason      1044 non-null   object\n",
      " 11  guardian    1044 non-null   object\n",
      " 12  traveltime  1044 non-null   int64 \n",
      " 13  studytime   1044 non-null   int64 \n",
      " 14  failures    1044 non-null   int64 \n",
      " 15  schoolsup   1044 non-null   object\n",
      " 16  famsup      1044 non-null   object\n",
      " 17  paid        1044 non-null   object\n",
      " 18  activities  1044 non-null   object\n",
      " 19  nursery     1044 non-null   object\n",
      " 20  higher      1044 non-null   object\n",
      " 21  internet    1044 non-null   object\n",
      " 22  romantic    1044 non-null   object\n",
      " 23  famrel      1044 non-null   int64 \n",
      " 24  freetime    1044 non-null   int64 \n",
      " 25  goout       1044 non-null   int64 \n",
      " 26  Dalc        1044 non-null   int64 \n",
      " 27  Walc        1044 non-null   int64 \n",
      " 28  health      1044 non-null   int64 \n",
      " 29  absences    1044 non-null   int64 \n",
      " 30  G1          1044 non-null   int64 \n",
      " 31  G2          1044 non-null   int64 \n",
      " 32  G3          1044 non-null   int64 \n",
      "dtypes: int64(16), object(17)\n",
      "memory usage: 277.3+ KB\n"
     ]
    }
   ],
   "source": [
    "#information about merged dataset\n",
    "stuper.info()"
   ]
  },
  {
   "cell_type": "code",
   "execution_count": 6,
   "id": "5802935b",
   "metadata": {},
   "outputs": [
    {
     "data": {
      "text/plain": [
       "school        False\n",
       "sex           False\n",
       "age           False\n",
       "address       False\n",
       "famsize       False\n",
       "Pstatus       False\n",
       "Medu          False\n",
       "Fedu          False\n",
       "Mjob          False\n",
       "Fjob          False\n",
       "reason        False\n",
       "guardian      False\n",
       "traveltime    False\n",
       "studytime     False\n",
       "failures      False\n",
       "schoolsup     False\n",
       "famsup        False\n",
       "paid          False\n",
       "activities    False\n",
       "nursery       False\n",
       "higher        False\n",
       "internet      False\n",
       "romantic      False\n",
       "famrel        False\n",
       "freetime      False\n",
       "goout         False\n",
       "Dalc          False\n",
       "Walc          False\n",
       "health        False\n",
       "absences      False\n",
       "G1            False\n",
       "G2            False\n",
       "G3            False\n",
       "dtype: bool"
      ]
     },
     "execution_count": 6,
     "metadata": {},
     "output_type": "execute_result"
    }
   ],
   "source": [
    "#checking missing values\n",
    "stuper.isnull().any()"
   ]
  },
  {
   "cell_type": "markdown",
   "id": "669f0639",
   "metadata": {},
   "source": [
    "There are no missing values."
   ]
  },
  {
   "cell_type": "markdown",
   "id": "ab64fbcb",
   "metadata": {},
   "source": [
    "4.Discriptive Statistics Analysis"
   ]
  },
  {
   "cell_type": "markdown",
   "id": "d112f621",
   "metadata": {},
   "source": [
    "Influence of parents education on student final grade....."
   ]
  },
  {
   "cell_type": "code",
   "execution_count": 7,
   "id": "0135670b",
   "metadata": {},
   "outputs": [
    {
     "data": {
      "text/plain": [
       "<AxesSubplot:title={'center':\"Relationship between mother's education and final grade\"}, xlabel='Medu', ylabel='G3'>"
      ]
     },
     "execution_count": 7,
     "metadata": {},
     "output_type": "execute_result"
    },
    {
     "data": {
      "image/png": "[encoded data removed]",
      "text/plain": [
       "<Figure size 432x288 with 1 Axes>"
      ]
     },
     "metadata": {
      "needs_background": "light"
     },
     "output_type": "display_data"
    }
   ],
   "source": [
    "#displaying title of the graph\n",
    "plt.title(\"Relationship between mother's education and final grade\")\n",
    "\n",
    "#using scatterplot we can see the relationship between two numerical variables\n",
    "sns.scatterplot(x=\"Medu\",y=\"G3\",data=stuper)"
   ]
  },
  {
   "cell_type": "code",
   "execution_count": 8,
   "id": "1235211a",
   "metadata": {},
   "outputs": [
    {
     "data": {
      "text/plain": [
       "<AxesSubplot:title={'center':\"Relationship between father's education and final grade\"}, xlabel='Fedu', ylabel='G3'>"
      ]
     },
     "execution_count": 8,
     "metadata": {},
     "output_type": "execute_result"
    },
    {
     "data": {
      "image/png": "[encoded data removed]",
      "text/plain": [
       "<Figure size 432x288 with 1 Axes>"
      ]
     },
     "metadata": {
      "needs_background": "light"
     },
     "output_type": "display_data"
    }
   ],
   "source": [
    "#displaying title of the graph\n",
    "plt.title(\"Relationship between father's education and final grade\")\n",
    "\n",
    "#using scatterplot we can see the relationship between two numerical variables\n",
    "sns.scatterplot(x=\"Fedu\",y=\"G3\",data=stuper)"
   ]
  },
  {
   "cell_type": "markdown",
   "id": "dd56a6e2",
   "metadata": {},
   "source": [
    "From the above interpretation we can observe that education level of parents has a positive relation with students final score. Comparatively, mother's education level is more influence than father's education level."
   ]
  },
  {
   "cell_type": "markdown",
   "id": "4e64aa89",
   "metadata": {},
   "source": [
    "Impact of alcohol consumption on final grade..."
   ]
  },
  {
   "cell_type": "code",
   "execution_count": 9,
   "id": "98a28974",
   "metadata": {},
   "outputs": [
    {
     "data": {
      "image/png": "[encoded data removed]",
      "text/plain": [
       "<Figure size 432x288 with 1 Axes>"
      ]
     },
     "metadata": {
      "needs_background": "light"
     },
     "output_type": "display_data"
    }
   ],
   "source": [
    "plt.title(\"Impact of workday alcohol consumption on final grade\")\n",
    "plt.xlabel(\"Workday alcohol consumption\")\n",
    "plt.ylabel(\"Final Grade\")\n",
    "plt.bar(stuper['Dalc'], stuper['G3'], color ='r')\n",
    "plt.show()"
   ]
  },
  {
   "cell_type": "code",
   "execution_count": 10,
   "id": "4f3c464b",
   "metadata": {},
   "outputs": [
    {
     "data": {
      "image/png": "[encoded data removed]",
      "text/plain": [
       "<Figure size 432x288 with 1 Axes>"
      ]
     },
     "metadata": {
      "needs_background": "light"
     },
     "output_type": "display_data"
    }
   ],
   "source": [
    "plt.title(\"Impact of weekend alcohol consumption on final grade\")\n",
    "plt.xlabel(\"Weekend alcohol consumption\")\n",
    "plt.ylabel(\"final grade\")\n",
    "plt.bar(stuper['Walc'], stuper['G3'], color ='g')\n",
    "plt.show()"
   ]
  },
  {
   "cell_type": "markdown",
   "id": "da16ab62",
   "metadata": {},
   "source": [
    "Above interpretation says that alcohol consumption has a significant relation with final grade.\n",
    "Comparatively, workday alcohol consumption  is more influence than weekend alcohol consumption.\n"
   ]
  },
  {
   "cell_type": "markdown",
   "id": "9c25d2ea",
   "metadata": {},
   "source": [
    "Should parents let their kids frequently going out with friends?"
   ]
  },
  {
   "cell_type": "code",
   "execution_count": 11,
   "id": "f7e1f8d6",
   "metadata": {},
   "outputs": [
    {
     "data": {
      "image/png": "[encoded data removed]",
      "text/plain": [
       "<Figure size 432x720 with 1 Axes>"
      ]
     },
     "metadata": {
      "needs_background": "light"
     },
     "output_type": "display_data"
    }
   ],
   "source": [
    "plt.figure(figsize=(6,10))\n",
    "sns.boxplot(x='goout', y='G3', data=stuper)\n",
    "plt.title('Final Grade By Frequency of Going Out', fontsize=20)\n",
    "plt.xlabel('Frequency of Going Out', fontsize=16)\n",
    "plt.ylabel('Final Score', fontsize=16)\n",
    "plt.show()\n"
   ]
  },
  {
   "cell_type": "markdown",
   "id": "9931125d",
   "metadata": {},
   "source": [
    "Above interpretation says that frequently going out with friends is showing effect on final grade of students, so we can suggest parents to put limit the frequency of their kids going out with friends.\n"
   ]
  },
  {
   "cell_type": "code",
   "execution_count": 14,
   "id": "3b58cbd4",
   "metadata": {},
   "outputs": [
    {
     "data": {
      "image/png": "[encoded data removed]",
      "text/plain": [
       "<Figure size 360x360 with 1 Axes>"
      ]
     },
     "metadata": {
      "needs_background": "light"
     },
     "output_type": "display_data"
    },
    {
     "data": {
      "image/png": "[encoded data removed]",
      "text/plain": [
       "<Figure size 432x288 with 1 Axes>"
      ]
     },
     "metadata": {
      "needs_background": "light"
     },
     "output_type": "display_data"
    },
    {
     "data": {
      "image/png": "[encoded data removed]",
      "text/plain": [
       "<Figure size 432x288 with 1 Axes>"
      ]
     },
     "metadata": {
      "needs_background": "light"
     },
     "output_type": "display_data"
    },
    {
     "data": {
      "image/png": "[encoded data removed]",
      "text/plain": [
       "<Figure size 432x288 with 1 Axes>"
      ]
     },
     "metadata": {
      "needs_background": "light"
     },
     "output_type": "display_data"
    },
    {
     "data": {
      "image/png": "[encoded data removed]",
      "text/plain": [
       "<Figure size 360x360 with 1 Axes>"
      ]
     },
     "metadata": {
      "needs_background": "light"
     },
     "output_type": "display_data"
    },
    {
     "data": {
      "image/png": "[encoded data removed]",
      "text/plain": [
       "<Figure size 432x288 with 1 Axes>"
      ]
     },
     "metadata": {
      "needs_background": "light"
     },
     "output_type": "display_data"
    }
   ],
   "source": [
    "#creating a figure with size\n",
    "plt.figure(figsize=(5,5))\n",
    "#creating a subplot\n",
    "plt.subplot(2,2,1)\n",
    "#displaying the barplot\n",
    "plt.title(\"effect of extra educational support on students first period grade \")\n",
    "plt.bar(stuper['schoolsup'], stuper['G1'])\n",
    "plt.xlabel(\"extra educational support\")\n",
    "plt.ylabel(\"first period grade\")\n",
    "plt.show()\n",
    "\n",
    "plt.subplot(2,2,2)\n",
    "plt.title(\"effect of extra educational support on students second period grade \")\n",
    "plt.bar(stuper['schoolsup'], stuper['G2'])\n",
    "plt.xlabel(\"extra educational support\")\n",
    "plt.ylabel(\"second period grade\")\n",
    "plt.show()\n",
    "\n",
    "plt.subplot(2,2,3)\n",
    "plt.title(\"effect of extra educational support on students final grade \")\n",
    "plt.bar(stuper['schoolsup'], stuper['G3'])\n",
    "plt.xlabel(\"extra educational support\")\n",
    "plt.ylabel(\"final grade\")\n",
    "plt.show()\n",
    "\n",
    "plt.subplot(2,2,4)\n",
    "plt.title(\"effect of family educational support on students first period grade \")\n",
    "plt.bar(stuper['famsup'], stuper['G1'])\n",
    "plt.xlabel(\"family educational support\")\n",
    "plt.ylabel(\"first period grade\")\n",
    "plt.show()\n",
    "\n",
    "plt.figure(figsize=(5,5))\n",
    "plt.subplot(2,2,1)\n",
    "plt.title(\"effect of family educational support on students second period grade \")\n",
    "plt.bar(stuper['famsup'], stuper['G2'])\n",
    "plt.xlabel(\"family educational support\")\n",
    "plt.ylabel(\"second period grade\")\n",
    "plt.show()\n",
    "\n",
    "plt.subplot(2,2,2)\n",
    "plt.title(\"effect of family educational support on students final grade \")\n",
    "plt.bar(stuper['famsup'], stuper['G3'])\n",
    "plt.xlabel(\"family educational support\")\n",
    "plt.ylabel(\"final grade\")\n",
    "plt.show()"
   ]
  },
  {
   "cell_type": "markdown",
   "id": "b63fbf23",
   "metadata": {},
   "source": [
    "From the above interpretation we can observe that family educational support has impact on first and second period grades of students than extra educational support."
   ]
  }
 ],
 "metadata": {
  "kernelspec": {
   "display_name": "Python 3 (ipykernel)",
   "language": "python",
   "name": "python3"
  },
  "language_info": {
   "codemirror_mode": {
    "name": "ipython",
    "version": 3
   },
   "file_extension": ".py",
   "mimetype": "text/x-python",
   "name": "python",
   "nbconvert_exporter": "python",
   "pygments_lexer": "ipython3",
   "version": "3.9.7"
  }
 },
 "nbformat": 4,
 "nbformat_minor": 5
}
